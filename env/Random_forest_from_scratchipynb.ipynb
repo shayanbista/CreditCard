{
 "cells": [
  {
   "cell_type": "code",
   "execution_count": 4,
   "metadata": {
    "id": "8YVhA73kGt42",
    "scrolled": true
   },
   "outputs": [],
   "source": [
    "import numpy as np\n",
    "import pandas as pd"
   ]
  },
  {
   "cell_type": "code",
   "execution_count": 5,
   "metadata": {
    "colab": {
     "base_uri": "https://localhost:8080/",
     "height": 550
    },
    "id": "4AupYys5HJdg",
    "outputId": "510af527-7821-4dce-c5ee-2effe3c277bb",
    "scrolled": true
   },
   "outputs": [
    {
     "data": {
      "text/html": [
       "<div>\n",
       "<style scoped>\n",
       "    .dataframe tbody tr th:only-of-type {\n",
       "        vertical-align: middle;\n",
       "    }\n",
       "\n",
       "    .dataframe tbody tr th {\n",
       "        vertical-align: top;\n",
       "    }\n",
       "\n",
       "    .dataframe thead th {\n",
       "        text-align: right;\n",
       "    }\n",
       "</style>\n",
       "<table border=\"1\" class=\"dataframe\">\n",
       "  <thead>\n",
       "    <tr style=\"text-align: right;\">\n",
       "      <th></th>\n",
       "      <th>amt</th>\n",
       "      <th>is_fraud</th>\n",
       "      <th>user_id</th>\n",
       "      <th>latitudinal_distance</th>\n",
       "      <th>longitudinal_distance</th>\n",
       "    </tr>\n",
       "  </thead>\n",
       "  <tbody>\n",
       "    <tr>\n",
       "      <th>0</th>\n",
       "      <td>122.86</td>\n",
       "      <td>0</td>\n",
       "      <td>6</td>\n",
       "      <td>0.488</td>\n",
       "      <td>0.719</td>\n",
       "    </tr>\n",
       "    <tr>\n",
       "      <th>1</th>\n",
       "      <td>113.40</td>\n",
       "      <td>0</td>\n",
       "      <td>29</td>\n",
       "      <td>0.136</td>\n",
       "      <td>0.393</td>\n",
       "    </tr>\n",
       "    <tr>\n",
       "      <th>2</th>\n",
       "      <td>89.35</td>\n",
       "      <td>0</td>\n",
       "      <td>28</td>\n",
       "      <td>0.031</td>\n",
       "      <td>0.910</td>\n",
       "    </tr>\n",
       "    <tr>\n",
       "      <th>3</th>\n",
       "      <td>61.00</td>\n",
       "      <td>0</td>\n",
       "      <td>15</td>\n",
       "      <td>0.492</td>\n",
       "      <td>0.134</td>\n",
       "    </tr>\n",
       "    <tr>\n",
       "      <th>4</th>\n",
       "      <td>98.24</td>\n",
       "      <td>0</td>\n",
       "      <td>12</td>\n",
       "      <td>0.522</td>\n",
       "      <td>0.371</td>\n",
       "    </tr>\n",
       "  </tbody>\n",
       "</table>\n",
       "</div>"
      ],
      "text/plain": [
       "      amt  is_fraud  user_id  latitudinal_distance  longitudinal_distance\n",
       "0  122.86         0        6                 0.488                  0.719\n",
       "1  113.40         0       29                 0.136                  0.393\n",
       "2   89.35         0       28                 0.031                  0.910\n",
       "3   61.00         0       15                 0.492                  0.134\n",
       "4   98.24         0       12                 0.522                  0.371"
      ]
     },
     "execution_count": 5,
     "metadata": {},
     "output_type": "execute_result"
    }
   ],
   "source": [
    "train_df=pd.read_csv('Training_data.csv')\n",
    "test_df=pd.read_csv('Testing_data.csv')\n",
    "train_df.head()"
   ]
  },
  {
   "cell_type": "code",
   "execution_count": 6,
   "metadata": {},
   "outputs": [
    {
     "name": "stdout",
     "output_type": "stream",
     "text": [
      "       amt  is_fraud  user_id  latitudinal_distance  longitudinal_distance\n",
      "149  94.20         0        1                 0.771                  0.295\n",
      "353  83.80         0        1                 0.942                  0.831\n",
      "422  90.72         0        1                 0.767                  0.806\n",
      "423  89.32         0        1                 0.154                  0.661\n",
      "433  38.25         0        1                 0.981                  0.514\n"
     ]
    }
   ],
   "source": [
    "# Assuming your DataFrame is called train_df\n",
    "train_df = train_df[train_df['user_id'] == 1]\n",
    "test_df = test_df[test_df['user_id'] == 1]\n",
    "# Display the filtered DataFrame\n",
    "print(train_df.head())"
   ]
  },
  {
   "cell_type": "code",
   "execution_count": null,
   "metadata": {},
   "outputs": [],
   "source": []
  },
  {
   "cell_type": "code",
   "execution_count": 7,
   "metadata": {},
   "outputs": [],
   "source": [
    "X_train = train_df.drop('is_fraud', axis=1)\n",
    "y_train = train_df['is_fraud']"
   ]
  },
  {
   "cell_type": "code",
   "execution_count": 8,
   "metadata": {
    "colab": {
     "base_uri": "https://localhost:8080/"
    },
    "id": "ASzKY5BkB_l-",
    "outputId": "ea0467be-43d4-426c-f308-332a8c8732a9",
    "scrolled": true
   },
   "outputs": [],
   "source": [
    "X_test = test_df.drop('is_fraud', axis=1)\n",
    "y_test = test_df['is_fraud']"
   ]
  },
  {
   "cell_type": "code",
   "execution_count": 9,
   "metadata": {
    "colab": {
     "base_uri": "https://localhost:8080/"
    },
    "id": "Sn-S_FiT8qKA",
    "outputId": "36fd8cca-d7aa-49c6-fe96-af8f8bca772a",
    "scrolled": true
   },
   "outputs": [],
   "source": [
    "# print(\"Shape of X_train:\", X_train.shape)\n",
    "# print(\"Shape of X_test:\", X_test.shape)\n",
    "# print(\"Columns in X_train:\", X_train.columns)\n",
    "# print(\"Columns in X_test:\", X_test.columns)\n",
    "# try:\n",
    "#     # The line that causes KeyError\n",
    "#     print(X_train['user_id'])\n",
    "# except KeyError as e:\n",
    "#     print(\"KeyError occurred on this line:\", e)\n",
    "# unique_train_users = X_train['user_id'].unique()\n",
    "# unique_test_users = X_test['user_id'].unique()\n",
    "\n",
    "# print(\"Unique User IDs in X_train:\", unique_train_users)\n",
    "# print(\"Unique User IDs in X_test:\", unique_test_users)"
   ]
  },
  {
   "cell_type": "code",
   "execution_count": 10,
   "metadata": {
    "id": "LkRqSMNP7h7l",
    "scrolled": true
   },
   "outputs": [],
   "source": [
    "#defining entropy and information gain"
   ]
  },
  {
   "cell_type": "code",
   "execution_count": 11,
   "metadata": {
    "id": "IYbU7vNm8K0i",
    "scrolled": true
   },
   "outputs": [],
   "source": [
    "def entropy(p):\n",
    "    if p == 0:\n",
    "        return 0\n",
    "    elif p == 1:\n",
    "        return 0\n",
    "    else:\n",
    "        return - (p * np.log2(p) + (1 - p) * np.log2(1-p))\n",
    "\n",
    "def information_gain(left_child, right_child):\n",
    "    parent = left_child + right_child\n",
    "    p_parent = parent.count(1) / len(parent) if len(parent) > 0 else 0\n",
    "    p_left = left_child.count(1) / len(left_child) if len(left_child) > 0 else 0\n",
    "    p_right = right_child.count(1) / len(right_child) if len(right_child) > 0 else 0\n",
    "    IG_p = entropy(p_parent)\n",
    "    IG_l = entropy(p_left)\n",
    "    IG_r = entropy(p_right)\n",
    "    return IG_p - len(left_child) / len(parent) * IG_l - len(right_child) / len(parent) * IG_r"
   ]
  },
  {
   "cell_type": "code",
   "execution_count": 12,
   "metadata": {
    "id": "SyiDdcwJ8Nac",
    "scrolled": true
   },
   "outputs": [],
   "source": [
    "def draw_bootstrap(X_train, y_train):\n",
    "    bootstrap_indices = list(np.random.choice(range(len(X_train)), len(X_train), replace = True))\n",
    "    oob_indices = [i for i in range(len(X_train)) if i not in bootstrap_indices]\n",
    "    X_bootstrap = X_train.iloc[bootstrap_indices].values\n",
    "    y_bootstrap = y_train.iloc[bootstrap_indices]\n",
    "    X_oob = X_train.iloc[oob_indices].values\n",
    "    y_oob = y_train.iloc[oob_indices]\n",
    "    return X_bootstrap, y_bootstrap, X_oob, y_oob\n",
    "\n",
    "def oob_score(tree, X_test, y_test):\n",
    "    y_test = list(y_test)\n",
    "    mis_label = 0\n",
    "    for i in range(len(X_test)):\n",
    "        pred = predict_tree(tree, X_test[i])\n",
    "        if pred != y_test[i]:\n",
    "            mis_label += 1\n",
    "    return mis_label / len(X_test)"
   ]
  },
  {
   "cell_type": "code",
   "execution_count": 13,
   "metadata": {
    "id": "manRVeD6q5rF",
    "scrolled": true
   },
   "outputs": [],
   "source": [
    "import random\n",
    "import numpy as np\n",
    "\n",
    "def find_split_point(X_bootstrap, y_bootstrap, max_features):\n",
    "    y_bootstrap = list(y_bootstrap)\n",
    "    feature_ls = set()\n",
    "    num_features = len(X_bootstrap[0])\n",
    "    while len(feature_ls) < max_features:\n",
    "        feature_idx = random.randint(0, num_features - 1)\n",
    "        feature_ls.add(feature_idx)\n",
    "\n",
    "    best_info_gain = -999\n",
    "    node = None\n",
    "    for feature_idx in feature_ls:\n",
    "        unique_values = np.unique(X_bootstrap[:, feature_idx])\n",
    "\n",
    "        for split_point in unique_values:\n",
    "            left_child = {'X_bootstrap': [], 'y_bootstrap': []}\n",
    "            right_child = {'X_bootstrap': [], 'y_bootstrap': []}\n",
    "\n",
    "            for i, value in enumerate(X_bootstrap[:, feature_idx]):\n",
    "                if value <= split_point:\n",
    "                    left_child['X_bootstrap'].append(X_bootstrap[i])\n",
    "                    left_child['y_bootstrap'].append(y_bootstrap[i])\n",
    "                else:\n",
    "                    right_child['X_bootstrap'].append(X_bootstrap[i])\n",
    "                    right_child['y_bootstrap'].append(y_bootstrap[i])\n",
    "\n",
    "            split_info_gain = information_gain(left_child['y_bootstrap'], right_child['y_bootstrap'])\n",
    "            if split_info_gain > best_info_gain:\n",
    "                best_info_gain = split_info_gain\n",
    "                left_child['X_bootstrap'] = np.array(left_child['X_bootstrap'])\n",
    "                right_child['X_bootstrap'] = np.array(right_child['X_bootstrap'])\n",
    "                node = {\n",
    "                    'information_gain': split_info_gain,\n",
    "                    'left_child': left_child,\n",
    "                    'right_child': right_child,\n",
    "                    'split_point': split_point,\n",
    "                    'feature_idx': feature_idx\n",
    "                }\n",
    "\n",
    "    return node\n"
   ]
  },
  {
   "cell_type": "code",
   "execution_count": 14,
   "metadata": {
    "id": "Bns8V7g19mHD",
    "scrolled": true
   },
   "outputs": [],
   "source": [
    "def terminal_node(node):\n",
    "    y_bootstrap = node['y_bootstrap']\n",
    "    pred = max(y_bootstrap, key = y_bootstrap.count)\n",
    "    return pred\n",
    "\n",
    "\n",
    "def split_node(node, max_features, min_samples_split, max_depth, depth):\n",
    "    left_child = node['left_child']\n",
    "    right_child = node['right_child']\n",
    "\n",
    "    del(node['left_child'])\n",
    "    del(node['right_child'])\n",
    "\n",
    "    if len(left_child['y_bootstrap']) == 0 or len(right_child['y_bootstrap']) == 0:\n",
    "        empty_child = {'y_bootstrap': left_child['y_bootstrap'] + right_child['y_bootstrap']}\n",
    "        node['left_split'] = terminal_node(empty_child)\n",
    "        node['right_split'] = terminal_node(empty_child)\n",
    "        return\n",
    "\n",
    "    if depth >= max_depth:\n",
    "        node['left_split'] = terminal_node(left_child)\n",
    "        node['right_split'] = terminal_node(right_child)\n",
    "        return node\n",
    "\n",
    "    if len(left_child['X_bootstrap']) <= min_samples_split:\n",
    "        node['left_split'] = node['right_split'] = terminal_node(left_child)\n",
    "    else:\n",
    "        node['left_split'] = find_split_point(left_child['X_bootstrap'], left_child['y_bootstrap'], max_features)\n",
    "        split_node(node['left_split'], max_depth, min_samples_split, max_depth, depth + 1)\n",
    "    if len(right_child['X_bootstrap']) <= min_samples_split:\n",
    "        node['right_split'] = node['left_split'] = terminal_node(right_child)\n",
    "    else:\n",
    "        node['right_split'] = find_split_point(right_child['X_bootstrap'], right_child['y_bootstrap'], max_features)\n",
    "        split_node(node['right_split'], max_features, min_samples_split, max_depth, depth + 1)"
   ]
  },
  {
   "cell_type": "code",
   "execution_count": 15,
   "metadata": {
    "id": "_QGsLIQ59tmQ",
    "scrolled": true
   },
   "outputs": [],
   "source": [
    "def build_tree(X_bootstrap, y_bootstrap, max_depth, min_samples_split, max_features):\n",
    "    root_node = find_split_point(X_bootstrap, y_bootstrap, max_features)\n",
    "    split_node(root_node, max_features, min_samples_split, max_depth, 1)\n",
    "    return root_node\n",
    "\n",
    "def random_forest(X_train, y_train, n_estimators, max_features, max_depth, min_samples_split):\n",
    "    tree_ls = list()\n",
    "    oob_ls = list()\n",
    "    for i in range(n_estimators):\n",
    "        X_bootstrap, y_bootstrap, X_oob, y_oob = draw_bootstrap(X_train, y_train)\n",
    "        tree = build_tree(X_bootstrap, y_bootstrap, max_features, max_depth, min_samples_split)\n",
    "        tree_ls.append(tree)\n",
    "        oob_error = oob_score(tree, X_oob, y_oob)\n",
    "        oob_ls.append(oob_error)\n",
    "    print(\"OOB estimate: {:.2f}\".format(np.mean(oob_ls)))\n",
    "    return tree_ls"
   ]
  },
  {
   "cell_type": "code",
   "execution_count": null,
   "metadata": {
    "id": "zACXy8OC91Cl",
    "scrolled": true
   },
   "outputs": [],
   "source": []
  },
  {
   "cell_type": "code",
   "execution_count": 16,
   "metadata": {
    "id": "JVf8UTWF3BGE",
    "scrolled": true
   },
   "outputs": [],
   "source": [
    "def predict_tree(tree, X_test):\n",
    "    feature_idx = tree['feature_idx']\n",
    "    split_point = tree['split_point']\n",
    "\n",
    "    print(\"Feature Index:\", feature_idx)\n",
    "    print(\"Split Point:\", split_point)\n",
    "    print(\"Test Value:\", X_test[feature_idx])\n",
    "\n",
    "    if X_test[feature_idx] <= split_point:\n",
    "        if type(tree['left_split']) == dict:\n",
    "            return predict_tree(tree['left_split'], X_test)\n",
    "        else:\n",
    "            value = tree['left_split']\n",
    "            return value\n",
    "    else:\n",
    "        if type(tree['right_split']) == dict:\n",
    "            return predict_tree(tree['right_split'], X_test)\n",
    "        else:\n",
    "            return tree['right_split']\n"
   ]
  },
  {
   "cell_type": "code",
   "execution_count": 17,
   "metadata": {
    "id": "zYFEJZwq9_fK",
    "scrolled": true
   },
   "outputs": [],
   "source": [
    "def predict_rf(tree_ls, X_test):\n",
    "    pred_ls = list()\n",
    "    for i in range(len(X_test)):\n",
    "        ensemble_preds = [predict_tree(tree, X_test.values[i]) for tree in tree_ls]\n",
    "        final_pred = max(ensemble_preds, key = ensemble_preds.count)\n",
    "        pred_ls.append(final_pred)\n",
    "    return np.array(pred_ls)\n",
    "\n"
   ]
  },
  {
   "cell_type": "code",
   "execution_count": null,
   "metadata": {
    "colab": {
     "base_uri": "https://localhost:8080/"
    },
    "id": "HlulDU69-E0B",
    "outputId": "9b2e0def-568a-44b9-c5ad-637d1bfcaaab",
    "scrolled": true
   },
   "outputs": [],
   "source": [
    "n_estimators = 20\n",
    "max_features = 5\n",
    "max_depth = 5\n",
    "min_samples_split = 2\n",
    "\n",
    "model = random_forest(X_train, y_train, n_estimators, max_features, max_depth, min_samples_split)"
   ]
  },
  {
   "cell_type": "code",
   "execution_count": null,
   "metadata": {
    "colab": {
     "base_uri": "https://localhost:8080/"
    },
    "id": "n3osHHLd-Sq5",
    "outputId": "38573065-30a4-4834-8069-7b9a1b54766b",
    "scrolled": true
   },
   "outputs": [],
   "source": [
    "preds = predict_rf(model,X_test)\n",
    "print(preds)\n",
    "acc = sum(preds == y_test) / len(y_test)\n",
    "print(\"Testing accuracy: {}\".format(np.round(acc,3)))"
   ]
  },
  {
   "cell_type": "code",
   "execution_count": null,
   "metadata": {
    "id": "fR1NZJLlK-6W",
    "scrolled": true
   },
   "outputs": [],
   "source": [
    "preds"
   ]
  },
  {
   "cell_type": "code",
   "execution_count": null,
   "metadata": {
    "colab": {
     "base_uri": "https://localhost:8080/"
    },
    "id": "KbPaKO6-jSOO",
    "outputId": "ff29b57a-fbba-478e-8653-a214cdf576f3",
    "scrolled": true
   },
   "outputs": [],
   "source": [
    "# preds"
   ]
  },
  {
   "cell_type": "code",
   "execution_count": null,
   "metadata": {
    "colab": {
     "base_uri": "https://localhost:8080/",
     "height": 206
    },
    "id": "WUEP5dXQjSu3",
    "outputId": "434b1a00-3599-4344-cf14-8d0324c65ce0",
    "scrolled": true
   },
   "outputs": [],
   "source": [
    "# X_train.head()"
   ]
  },
  {
   "cell_type": "code",
   "execution_count": null,
   "metadata": {
    "id": "FpSbzcqxlFVc",
    "scrolled": true
   },
   "outputs": [],
   "source": [
    "from sklearn.metrics import precision_score, f1_score, recall_score\n",
    "\n",
    "# Calculate precision and F1-score with zero_division parameter\n",
    "precision = precision_score(y_test, preds, zero_division=1)  # Set to 1 to avoid warnings\n",
    "f1 = f1_score(y_test, preds, zero_division=1)\n",
    "recall = recall_score(y_test, preds, zero_division=1)"
   ]
  },
  {
   "cell_type": "code",
   "execution_count": null,
   "metadata": {
    "colab": {
     "base_uri": "https://localhost:8080/"
    },
    "id": "io2V8WMt8Q2U",
    "outputId": "d1dc0016-760f-4d64-85c3-db5b646bafde",
    "scrolled": true
   },
   "outputs": [],
   "source": [
    "# precision"
   ]
  },
  {
   "cell_type": "code",
   "execution_count": null,
   "metadata": {
    "colab": {
     "base_uri": "https://localhost:8080/"
    },
    "id": "PvCCVm8M8R_q",
    "outputId": "45fd1aca-7305-494b-dbc3-a86bf3ee10e6",
    "scrolled": true
   },
   "outputs": [],
   "source": [
    "# f1"
   ]
  },
  {
   "cell_type": "code",
   "execution_count": null,
   "metadata": {
    "colab": {
     "base_uri": "https://localhost:8080/"
    },
    "id": "7GBquP_T8kKC",
    "outputId": "d09ff681-3250-4435-f522-a207c27db8b2",
    "scrolled": true
   },
   "outputs": [],
   "source": [
    "# recall"
   ]
  },
  {
   "cell_type": "code",
   "execution_count": null,
   "metadata": {
    "colab": {
     "base_uri": "https://localhost:8080/"
    },
    "id": "MNh0zyVf9KFm",
    "outputId": "306c72ae-b216-449c-d005-32b3f4ee3161",
    "scrolled": true
   },
   "outputs": [],
   "source": [
    "# precision_class_0 = precision_score(y_test, preds, labels=[0], average=None)\n",
    "# precision_class_0"
   ]
  },
  {
   "cell_type": "code",
   "execution_count": null,
   "metadata": {
    "colab": {
     "base_uri": "https://localhost:8080/"
    },
    "id": "DJ7w92Rk-V8n",
    "outputId": "dba4847c-0a93-40ff-a795-deb825c2f9d4",
    "scrolled": true
   },
   "outputs": [],
   "source": [
    "# precision_class_1 = precision_score(y_test, preds, labels=[1], average=None,zero_division=1)\n",
    "# precision_class_1"
   ]
  },
  {
   "cell_type": "code",
   "execution_count": null,
   "metadata": {
    "colab": {
     "base_uri": "https://localhost:8080/"
    },
    "id": "hc6_ZjY8-b22",
    "outputId": "96bbcc48-2026-4b4e-8050-59603752d763",
    "scrolled": true
   },
   "outputs": [],
   "source": [
    "# # recall_class_1 = recall_score(y_test, preds, labels=[1], average=None,zero_division=1)\n",
    "# recall_class_1"
   ]
  },
  {
   "cell_type": "code",
   "execution_count": null,
   "metadata": {
    "colab": {
     "base_uri": "https://localhost:8080/"
    },
    "id": "OHEKtDdd-rRa",
    "outputId": "76db4c1e-79a4-44f5-9b63-036f6dd29002",
    "scrolled": true
   },
   "outputs": [],
   "source": [
    "# recall_class_0 = recall_score(y_test, preds, labels=[0], average=None,zero_division=1)\n",
    "# recall_class_0"
   ]
  },
  {
   "cell_type": "code",
   "execution_count": null,
   "metadata": {
    "colab": {
     "base_uri": "https://localhost:8080/"
    },
    "id": "FMF0sFpc_UEc",
    "outputId": "c667c627-4b8d-4ad9-860b-a528b3016981",
    "scrolled": true
   },
   "outputs": [],
   "source": [
    "from sklearn.metrics import classification_report\n",
    "print(classification_report(y_test, preds, zero_division=1))"
   ]
  },
  {
   "cell_type": "markdown",
   "metadata": {
    "colab": {
     "base_uri": "https://localhost:8080/"
    },
    "id": "nm05VUWM_jvy",
    "outputId": "00719763-7252-4111-8fec-e8f5ee09d757",
    "scrolled": true
   },
   "source": []
  },
  {
   "cell_type": "code",
   "execution_count": null,
   "metadata": {
    "colab": {
     "base_uri": "https://localhost:8080/"
    },
    "id": "ShjkWVWqTqkh",
    "outputId": "00080fa7-0968-45c3-ebae-82f0b70aaf09",
    "scrolled": true
   },
   "outputs": [],
   "source": []
  },
  {
   "cell_type": "code",
   "execution_count": null,
   "metadata": {
    "id": "EdaHjyztwvW5",
    "scrolled": true
   },
   "outputs": [],
   "source": []
  },
  {
   "cell_type": "code",
   "execution_count": null,
   "metadata": {
    "id": "EU6FWobHw00_",
    "scrolled": true
   },
   "outputs": [],
   "source": []
  },
  {
   "cell_type": "code",
   "execution_count": null,
   "metadata": {
    "id": "b4bBcN01w2ck",
    "scrolled": true
   },
   "outputs": [],
   "source": []
  },
  {
   "cell_type": "code",
   "execution_count": null,
   "metadata": {
    "scrolled": true
   },
   "outputs": [],
   "source": []
  }
 ],
 "metadata": {
  "colab": {
   "provenance": []
  },
  "kernelspec": {
   "display_name": "Python 3 (ipykernel)",
   "language": "python",
   "name": "python3"
  },
  "language_info": {
   "codemirror_mode": {
    "name": "ipython",
    "version": 3
   },
   "file_extension": ".py",
   "mimetype": "text/x-python",
   "name": "python",
   "nbconvert_exporter": "python",
   "pygments_lexer": "ipython3",
   "version": "3.11.4"
  }
 },
 "nbformat": 4,
 "nbformat_minor": 1
}
